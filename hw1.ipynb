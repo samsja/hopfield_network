{
 "cells": [
  {
   "cell_type": "markdown",
   "metadata": {},
   "source": [
    "# Homework 1 Exercice 1"
   ]
  },
  {
   "cell_type": "code",
   "execution_count": 1,
   "metadata": {},
   "outputs": [],
   "source": [
    "import numpy as np"
   ]
  },
  {
   "cell_type": "code",
   "execution_count": 2,
   "metadata": {},
   "outputs": [],
   "source": [
    "def sign(x):\n",
    "    return 1*(x >=0) - 1*(x <0)"
   ]
  },
  {
   "cell_type": "code",
   "execution_count": 9,
   "metadata": {},
   "outputs": [],
   "source": [
    "class HopfieldNetwork:\n",
    "    \n",
    "    def _compute_weight(self,diag_null):\n",
    "        W = (self.patterns@self.patterns.T)/self.N\n",
    "        if diag_null:\n",
    "            np.fill_diagonal(W,0) \n",
    "        return W\n",
    "            \n",
    "        \n",
    "    def __init__(self,patterns,diag_null=True):\n",
    "        self.patterns = patterns\n",
    "        self.N = self.patterns.shape[0]\n",
    "        self.P = self.patterns.shape[1]\n",
    "        \n",
    "        self.W = self._compute_weight(diag_null)\n",
    "    \n",
    "    def _next_step(self,s,asyncro = True,random=False,index = None,copy=False):\n",
    "        \n",
    "        s = np.array(s,copy=copy)\n",
    "        if asyncro:\n",
    "            if random:\n",
    "                i=np.random.randint(s.shape[0])\n",
    "                s[i] = sign(self.W[i,:]@s)\n",
    "                return s\n",
    "            elif not(index==None):\n",
    "                s[index] = sign(self.W[index,:]@s)\n",
    "                return s\n",
    "            else:  \n",
    "                for i in range(s.shape[0]):\n",
    "                    s[i] = sign(self.W[i,:]@s)\n",
    "                return s\n",
    "        else:  \n",
    "            return sign(self.W@s)\n",
    "    \n",
    "    def _show_pattern(self,s):\n",
    "        pass\n",
    "    \n",
    "    def converge_to_steady_state(self,s,nb_iteration=100,asyncro=True,random_async=False,stdout = True):\n",
    "        \n",
    "        i = 0\n",
    "        continue_var = True\n",
    "        \n",
    "        while continue_var and i<nb_iteration:\n",
    "        \n",
    "            old_s = s\n",
    "            s =self._next_step(s,asyncro,random_async)\n",
    "        \n",
    "            if stdout:\n",
    "                print(f\"{i}\\n\")\n",
    "                self._show_pattern(s)\n",
    "\n",
    "            if(s==old_s).all() and not(asyncro):\n",
    "                continue_var = False\n",
    "            \n",
    "            i = i+1\n",
    "            \n",
    "        return s\n"
   ]
  },
  {
   "cell_type": "code",
   "execution_count": 10,
   "metadata": {},
   "outputs": [],
   "source": [
    "def generate_pattern(p,N=120):\n",
    "    return np.random.choice([-1,1],size=(N,p)) "
   ]
  },
  {
   "cell_type": "code",
   "execution_count": 54,
   "metadata": {},
   "outputs": [],
   "source": [
    "def get_error(p,n_trial,diag_null=True,verbose=True):\n",
    "    e = 0\n",
    "    for i in range(n_trial):\n",
    "\n",
    "        patterns = generate_pattern(p)\n",
    "        hn = HopfieldNetwork(patterns,diag_null=diag_null)\n",
    "\n",
    "        pattern_index = np.random.randint(patterns.shape[1])\n",
    "\n",
    "        s = hn._next_step(patterns[:,pattern_index],asyncro=True,random=True,copy=True)\n",
    "\n",
    "        e = e + (1-(s==patterns[:,pattern_index]).all())\n",
    "         \n",
    "    return e/n_trial"
   ]
  },
  {
   "cell_type": "code",
   "execution_count": 39,
   "metadata": {},
   "outputs": [],
   "source": [
    "n_trial = int(1e5)"
   ]
  },
  {
   "cell_type": "code",
   "execution_count": 40,
   "metadata": {},
   "outputs": [],
   "source": [
    "P = np.array([12,24,48,70,100,120])\n",
    "errors= np.array([get_error(p,n_trial) for p in P])"
   ]
  },
  {
   "cell_type": "code",
   "execution_count": 55,
   "metadata": {},
   "outputs": [],
   "source": [
    "errors_diag_not_null = np.array([get_error(p,n_trial,diag_null=False) for p in P])"
   ]
  },
  {
   "cell_type": "code",
   "execution_count": 56,
   "metadata": {},
   "outputs": [],
   "source": [
    "from scipy.special import erf"
   ]
  },
  {
   "cell_type": "code",
   "execution_count": 57,
   "metadata": {},
   "outputs": [],
   "source": [
    "def theorical_error(N,p):\n",
    "    return (1-erf(np.sqrt(N/(2*p))))/2\n",
    "theorical_errors = np.array([theorical_error(120,p) for p in P])"
   ]
  },
  {
   "cell_type": "code",
   "execution_count": 58,
   "metadata": {},
   "outputs": [],
   "source": [
    "import matplotlib.pyplot as plt"
   ]
  },
  {
   "cell_type": "code",
   "execution_count": 60,
   "metadata": {},
   "outputs": [
    {
     "data": {
      "text/plain": [
       "[<matplotlib.lines.Line2D at 0x7f4a7c5c8100>]"
      ]
     },
     "execution_count": 60,
     "metadata": {},
     "output_type": "execute_result"
    },
    {
     "data": {
      "image/png": "[encoded data removed]",
      "text/plain": [
       "<Figure size 432x288 with 1 Axes>"
      ]
     },
     "metadata": {
      "needs_background": "light"
     },
     "output_type": "display_data"
    }
   ],
   "source": [
    "plt.plot(P,errors)\n",
    "plt.plot(P,theorical_errors)\n",
    "plt.plot(P,errors_diag_not_null)"
   ]
  },
  {
   "cell_type": "markdown",
   "metadata": {},
   "source": [
    "It is quite similar :) (not for non null diag)"
   ]
  },
  {
   "cell_type": "code",
   "execution_count": 52,
   "metadata": {},
   "outputs": [
    {
     "data": {
      "text/plain": [
       "-0.0002067890769054425"
      ]
     },
     "execution_count": 52,
     "metadata": {},
     "output_type": "execute_result"
    }
   ],
   "source": [
    "(errors-theorical_errors).mean()"
   ]
  },
  {
   "cell_type": "markdown",
   "metadata": {},
   "source": [
    "in fact it is near 0"
   ]
  },
  {
   "cell_type": "code",
   "execution_count": 53,
   "metadata": {},
   "outputs": [
    {
     "data": {
      "text/plain": [
       "array([0.00063, 0.01199, 0.05685, 0.09476, 0.13677, 0.15867])"
      ]
     },
     "execution_count": 53,
     "metadata": {},
     "output_type": "execute_result"
    }
   ],
   "source": [
    "errors"
   ]
  },
  {
   "cell_type": "code",
   "execution_count": 61,
   "metadata": {},
   "outputs": [
    {
     "data": {
      "text/plain": [
       "array([0.00015, 0.00302, 0.0125 , 0.01767, 0.02153, 0.02147])"
      ]
     },
     "execution_count": 61,
     "metadata": {},
     "output_type": "execute_result"
    }
   ],
   "source": [
    "errors_diag_not_null"
   ]
  }
 ],
 "metadata": {
  "kernelspec": {
   "display_name": "Python 3",
   "language": "python",
   "name": "python3"
  },
  "language_info": {
   "codemirror_mode": {
    "name": "ipython",
    "version": 3
   },
   "file_extension": ".py",
   "mimetype": "text/x-python",
   "name": "python",
   "nbconvert_exporter": "python",
   "pygments_lexer": "ipython3",
   "version": "3.8.2"
  }
 },
 "nbformat": 4,
 "nbformat_minor": 4
}
