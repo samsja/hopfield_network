{
 "cells": [
  {
   "cell_type": "markdown",
   "metadata": {},
   "source": [
    "# Homework 1 : Exercice 2"
   ]
  },
  {
   "cell_type": "markdown",
   "metadata": {},
   "source": [
    "## Import the data"
   ]
  },
  {
   "cell_type": "code",
   "execution_count": 1,
   "metadata": {},
   "outputs": [],
   "source": [
    "import numpy as np"
   ]
  },
  {
   "cell_type": "code",
   "execution_count": 2,
   "metadata": {},
   "outputs": [],
   "source": [
    "x1=np.array([ [ -1, -1, -1, -1, -1, -1, -1, -1, -1, -1],[ -1, -1, -1, 1, 1, 1, 1, -1, -1, -1],[ -1, -1, 1, 1, 1, 1, 1, 1, -1, -1],[ -1, 1, 1, 1, -1, -1, 1, 1, 1, -1],[ -1, 1, 1, 1, -1, -1, 1, 1, 1, -1],[ -1, 1, 1, 1, -1, -1, 1, 1, 1, -1],[ -1, 1, 1, 1, -1, -1, 1, 1, 1, -1],[ -1, 1, 1, 1, -1, -1, 1, 1, 1, -1],[ -1, 1, 1, 1, -1, -1, 1, 1, 1, -1],[ -1, 1, 1, 1, -1, -1, 1, 1, 1, -1],[ -1, 1, 1, 1, -1, -1, 1, 1, 1, -1],[ -1, 1, 1, 1, -1, -1, 1, 1, 1, -1],[ -1, 1, 1, 1, -1, -1, 1, 1, 1, -1],[ -1, -1, 1, 1, 1, 1, 1, 1, -1, -1],[ -1, -1, -1, 1, 1, 1, 1, -1, -1, -1],[ -1, -1, -1, -1, -1, -1, -1, -1, -1, -1] ])\n",
    "\n",
    "x2=np.array([ [ -1, -1, -1, 1, 1, 1, 1, -1, -1, -1],[ -1, -1, -1, 1, 1, 1, 1, -1, -1, -1],[ -1, -1, -1, 1, 1, 1, 1, -1, -1, -1],[ -1, -1, -1, 1, 1, 1, 1, -1, -1, -1],[ -1, -1, -1, 1, 1, 1, 1, -1, -1, -1],[ -1, -1, -1, 1, 1, 1, 1, -1, -1, -1],[ -1, -1, -1, 1, 1, 1, 1, -1, -1, -1],[ -1, -1, -1, 1, 1, 1, 1, -1, -1, -1],[ -1, -1, -1, 1, 1, 1, 1, -1, -1, -1],[ -1, -1, -1, 1, 1, 1, 1, -1, -1, -1],[ -1, -1, -1, 1, 1, 1, 1, -1, -1, -1],[ -1, -1, -1, 1, 1, 1, 1, -1, -1, -1],[ -1, -1, -1, 1, 1, 1, 1, -1, -1, -1],[ -1, -1, -1, 1, 1, 1, 1, -1, -1, -1],[ -1, -1, -1, 1, 1, 1, 1, -1, -1, -1],[ -1, -1, -1, 1, 1, 1, 1, -1, -1, -1] ])\n",
    "\n",
    "x3=np.array([ [ 1, 1, 1, 1, 1, 1, 1, 1, -1, -1],[ 1, 1, 1, 1, 1, 1, 1, 1, -1, -1],[ -1, -1, -1, -1, -1, 1, 1, 1, -1, -1],[ -1, -1, -1, -1, -1, 1, 1, 1, -1, -1],[ -1, -1, -1, -1, -1, 1, 1, 1, -1, -1],[ -1, -1, -1, -1, -1, 1, 1, 1, -1, -1],[ -1, -1, -1, -1, -1, 1, 1, 1, -1, -1],[ 1, 1, 1, 1, 1, 1, 1, 1, -1, -1],[ 1, 1, 1, 1, 1, 1, 1, 1, -1, -1],[ 1, 1, 1, -1, -1, -1, -1, -1, -1, -1],[ 1, 1, 1, -1, -1, -1, -1, -1, -1, -1],[ 1, 1, 1, -1, -1, -1, -1, -1, -1, -1],[ 1, 1, 1, -1, -1, -1, -1, -1, -1, -1],[ 1, 1, 1, -1, -1, -1, -1, -1, -1, -1],[ 1, 1, 1, 1, 1, 1, 1, 1, -1, -1],[ 1, 1, 1, 1, 1, 1, 1, 1, -1, -1] ])\n",
    "\n",
    "x4= np.array([ [ -1, -1, 1, 1, 1, 1, 1, 1, -1, -1],[ -1, -1, 1, 1, 1, 1, 1, 1, 1, -1],[ -1, -1, -1, -1, -1, -1, 1, 1, 1, -1],[ -1, -1, -1, -1, -1, -1, 1, 1, 1, -1],[ -1, -1, -1, -1, -1, -1, 1, 1, 1, -1],[ -1, -1, -1, -1, -1, -1, 1, 1, 1, -1],[ -1, -1, -1, -1, -1, -1, 1, 1, 1, -1],[ -1, -1, 1, 1, 1, 1, 1, 1, -1, -1],[ -1, -1, 1, 1, 1, 1, 1, 1, -1, -1],[ -1, -1, -1, -1, -1, -1, 1, 1, 1, -1],[ -1, -1, -1, -1, -1, -1, 1, 1, 1, -1],[ -1, -1, -1, -1, -1, -1, 1, 1, 1, -1],[ -1, -1, -1, -1, -1, -1, 1, 1, 1, -1],[ -1, -1, -1, -1, -1, -1, 1, 1, 1, -1],[ -1, -1, 1, 1, 1, 1, 1, 1, 1, -1],[ -1, -1, 1, 1, 1, 1, 1, 1, -1, -1] ])\n",
    "\n",
    "x5= np.array([ [ -1, 1, 1, -1, -1, -1, -1, 1, 1, -1],[ -1, 1, 1, -1, -1, -1, -1, 1, 1, -1],[ -1, 1, 1, -1, -1, -1, -1, 1, 1, -1],[ -1, 1, 1, -1, -1, -1, -1, 1, 1, -1],[ -1, 1, 1, -1, -1, -1, -1, 1, 1, -1],[ -1, 1, 1, -1, -1, -1, -1, 1, 1, -1],[ -1, 1, 1, -1, -1, -1, -1, 1, 1, -1],[ -1, 1, 1, 1, 1, 1, 1, 1, 1, -1],[ -1, 1, 1, 1, 1, 1, 1, 1, 1, -1],[ -1, -1, -1, -1, -1, -1, -1, 1, 1, -1],[ -1, -1, -1, -1, -1, -1, -1, 1, 1, -1],[ -1, -1, -1, -1, -1, -1, -1, 1, 1, -1],[ -1, -1, -1, -1, -1, -1, -1, 1, 1, -1],[ -1, -1, -1, -1, -1, -1, -1, 1, 1, -1],[ -1, -1, -1, -1, -1, -1, -1, 1, 1, -1],[ -1, -1, -1, -1, -1, -1, -1, 1, 1, -1] ])"
   ]
  },
  {
   "cell_type": "code",
   "execution_count": 3,
   "metadata": {},
   "outputs": [],
   "source": [
    "def show_digit_pattern(x):\n",
    "    for ligne in x:\n",
    "        for px in ligne:\n",
    "            if px == 1:\n",
    "                print(\"1\",end=\"\")\n",
    "            else:\n",
    "                print(\" \",end=\"\")\n",
    "        print(\"\")"
   ]
  },
  {
   "cell_type": "code",
   "execution_count": 4,
   "metadata": {},
   "outputs": [
    {
     "name": "stdout",
     "output_type": "stream",
     "text": [
      "          \n",
      "   1111   \n",
      "  111111  \n",
      " 111  111 \n",
      " 111  111 \n",
      " 111  111 \n",
      " 111  111 \n",
      " 111  111 \n",
      " 111  111 \n",
      " 111  111 \n",
      " 111  111 \n",
      " 111  111 \n",
      " 111  111 \n",
      "  111111  \n",
      "   1111   \n",
      "          \n"
     ]
    }
   ],
   "source": [
    "show_digit_pattern(x1)"
   ]
  },
  {
   "cell_type": "code",
   "execution_count": 5,
   "metadata": {},
   "outputs": [],
   "source": [
    "def pre_process(image):\n",
    "    return image.flatten()\n",
    "\n",
    "def post_process(image_flatten):\n",
    "    return image_flatten.reshape(x1.shape)"
   ]
  },
  {
   "cell_type": "code",
   "execution_count": 6,
   "metadata": {},
   "outputs": [
    {
     "data": {
      "text/plain": [
       "(5, 160)"
      ]
     },
     "execution_count": 6,
     "metadata": {},
     "output_type": "execute_result"
    }
   ],
   "source": [
    "U = np.array([pre_process(x1),pre_process(x2),pre_process(x3),pre_process(x4),pre_process(x5)])\n",
    "U.shape"
   ]
  },
  {
   "cell_type": "code",
   "execution_count": 7,
   "metadata": {
    "scrolled": true
   },
   "outputs": [
    {
     "name": "stdout",
     "output_type": "stream",
     "text": [
      " 11    11 \n",
      " 11    11 \n",
      " 11    11 \n",
      " 11    11 \n",
      " 11    11 \n",
      " 11    11 \n",
      " 11    11 \n",
      " 11111111 \n",
      " 11111111 \n",
      "       11 \n",
      "       11 \n",
      "       11 \n",
      "       11 \n",
      "       11 \n",
      "       11 \n",
      "       11 \n"
     ]
    }
   ],
   "source": [
    "show_digit_pattern(post_process(U[4]))"
   ]
  },
  {
   "cell_type": "code",
   "execution_count": 8,
   "metadata": {},
   "outputs": [
    {
     "data": {
      "text/plain": [
       "False"
      ]
     },
     "execution_count": 8,
     "metadata": {},
     "output_type": "execute_result"
    }
   ],
   "source": [
    "U[0]-1 in U"
   ]
  },
  {
   "cell_type": "markdown",
   "metadata": {},
   "source": [
    "## Create the HopfieldNetwork"
   ]
  },
  {
   "cell_type": "code",
   "execution_count": 9,
   "metadata": {},
   "outputs": [],
   "source": [
    "def sign(x):\n",
    "    return 1*(x >=0) - 1*(x <0)"
   ]
  },
  {
   "cell_type": "code",
   "execution_count": 10,
   "metadata": {},
   "outputs": [
    {
     "data": {
      "text/plain": [
       "array([ 1, -1,  1, -1,  1])"
      ]
     },
     "execution_count": 10,
     "metadata": {},
     "output_type": "execute_result"
    }
   ],
   "source": [
    "sign(np.array([1,-1,1,-1,0]))"
   ]
  },
  {
   "cell_type": "code",
   "execution_count": 11,
   "metadata": {},
   "outputs": [],
   "source": [
    "class HopfieldNetwork:\n",
    "    \n",
    "    def _compute_weight(self,diag_null):\n",
    "        W = (self.patterns@self.patterns.T)/self.N\n",
    "        if diag_null:\n",
    "            np.fill_diagonal(W,0) \n",
    "        return W\n",
    "            \n",
    "        \n",
    "    def __init__(self,patterns,diag_null=True):\n",
    "        self.patterns = patterns\n",
    "        self.N = self.patterns.shape[0]\n",
    "        self.P = self.patterns.shape[1]\n",
    "        \n",
    "        self.W = self._compute_weight(diag_null)\n",
    "    \n",
    "    def _next_step(self,s,asyncro = True,random=False):\n",
    "            \n",
    "        if asyncro:\n",
    "            if random:\n",
    "                i=np.random.randint(s.shape[0])\n",
    "                s[i] = sign(self.W[i,:]@s)\n",
    "                return s\n",
    "            else:  \n",
    "                for i in range(s.shape[0]):\n",
    "                    s[i] = sign(self.W[i,:]@s)\n",
    "                return s\n",
    "        else:  \n",
    "            return sign(self.W@s)\n",
    "    \n",
    "    def _show_pattern(self,s):\n",
    "        pass\n",
    "    \n",
    "    def converge_to_steady_state(self,s,nb_iteration=100,asyncro=True,random_async=False,stdout = True):\n",
    "        \n",
    "        i = 0\n",
    "        continue_var = True\n",
    "        \n",
    "        while continue_var and i<nb_iteration:\n",
    "        \n",
    "            old_s = s\n",
    "            s =self._next_step(s,asyncro,random_async)\n",
    "        \n",
    "            if stdout:\n",
    "                print(f\"{i}\\n\")\n",
    "                self._show_pattern(s)\n",
    "\n",
    "            if(s==old_s).all() and not(asyncro):\n",
    "                continue_var = False\n",
    "            \n",
    "            i = i+1\n",
    "            \n",
    "        return s\n",
    "\n",
    "class DigitRecoHNetwok(HopfieldNetwork):\n",
    "    \n",
    "    def _show_pattern(self,p):\n",
    "        show_digit_pattern(post_process(p))"
   ]
  },
  {
   "cell_type": "code",
   "execution_count": 12,
   "metadata": {},
   "outputs": [],
   "source": [
    "digit_reco_network = DigitRecoHNetwok(U.T)"
   ]
  },
  {
   "cell_type": "code",
   "execution_count": 13,
   "metadata": {},
   "outputs": [
    {
     "data": {
      "text/plain": [
       "(160, 160)"
      ]
     },
     "execution_count": 13,
     "metadata": {},
     "output_type": "execute_result"
    }
   ],
   "source": [
    "digit_reco_network.W.shape"
   ]
  },
  {
   "cell_type": "markdown",
   "metadata": {},
   "source": [
    "## Try the network on a test pattern"
   ]
  },
  {
   "cell_type": "markdown",
   "metadata": {},
   "source": [
    "### a)"
   ]
  },
  {
   "cell_type": "code",
   "execution_count": 14,
   "metadata": {},
   "outputs": [],
   "source": [
    "pattern_1 = np.array([[-1, 1, 1, 1, 1, -1, 1, 1, -1, -1], [-1, 1, 1, 1, 1, -1, 1, 1, -1, -1], [1, -1, -1, -1, -1, -1, 1, 1, -1, -1], [1, -1, -1, -1, -1, -1, 1, 1, -1, -1], [1, -1, -1, -1, -1, -1, 1, 1, -1, -1], [1, -1, -1, -1, -1, -1, 1, 1, -1, -1], [1, -1, -1, -1, -1, -1, 1, 1, -1, -1], [-1, 1, 1, 1, 1, -1, 1, 1, -1, -1], [-1, 1, 1, 1, 1, -1, 1, 1, -1, -1], [-1, 1, 1, -1, -1, 1, -1, -1, -1, -1], [-1, 1, 1, -1, -1, 1, -1, -1, -1, -1], [-1, 1, 1, -1, -1, 1, -1, -1, -1, -1], [-1, 1, 1, -1, -1, 1, -1, -1, -1, -1], [-1, 1, 1, -1, -1, 1, -1, -1, -1, -1], [-1, 1, 1, 1, 1, -1, 1, 1, -1, -1], [-1, 1, 1, 1, 1, -1, 1, 1, -1, -1]] )"
   ]
  },
  {
   "cell_type": "code",
   "execution_count": 15,
   "metadata": {
    "scrolled": true
   },
   "outputs": [
    {
     "name": "stdout",
     "output_type": "stream",
     "text": [
      " 1111 11  \n",
      " 1111 11  \n",
      "1     11  \n",
      "1     11  \n",
      "1     11  \n",
      "1     11  \n",
      "1     11  \n",
      " 1111 11  \n",
      " 1111 11  \n",
      " 11  1    \n",
      " 11  1    \n",
      " 11  1    \n",
      " 11  1    \n",
      " 11  1    \n",
      " 1111 11  \n",
      " 1111 11  \n"
     ]
    }
   ],
   "source": [
    "show_digit_pattern(pattern_1)"
   ]
  },
  {
   "cell_type": "code",
   "execution_count": 16,
   "metadata": {
    "scrolled": true
   },
   "outputs": [
    {
     "name": "stdout",
     "output_type": "stream",
     "text": [
      "11111111  \n",
      "11111111  \n",
      "     111  \n",
      "     111  \n",
      "     111  \n",
      "     111  \n",
      "     111  \n",
      "11111111  \n",
      "11111111  \n",
      "111       \n",
      "111       \n",
      "111       \n",
      "111       \n",
      "111       \n",
      "11111111  \n",
      "11111111  \n"
     ]
    },
    {
     "data": {
      "text/plain": [
       "array([[ 1,  1,  1,  1,  1,  1,  1,  1, -1, -1],\n",
       "       [ 1,  1,  1,  1,  1,  1,  1,  1, -1, -1],\n",
       "       [-1, -1, -1, -1, -1,  1,  1,  1, -1, -1],\n",
       "       [-1, -1, -1, -1, -1,  1,  1,  1, -1, -1],\n",
       "       [-1, -1, -1, -1, -1,  1,  1,  1, -1, -1],\n",
       "       [-1, -1, -1, -1, -1,  1,  1,  1, -1, -1],\n",
       "       [-1, -1, -1, -1, -1,  1,  1,  1, -1, -1],\n",
       "       [ 1,  1,  1,  1,  1,  1,  1,  1, -1, -1],\n",
       "       [ 1,  1,  1,  1,  1,  1,  1,  1, -1, -1],\n",
       "       [ 1,  1,  1, -1, -1, -1, -1, -1, -1, -1],\n",
       "       [ 1,  1,  1, -1, -1, -1, -1, -1, -1, -1],\n",
       "       [ 1,  1,  1, -1, -1, -1, -1, -1, -1, -1],\n",
       "       [ 1,  1,  1, -1, -1, -1, -1, -1, -1, -1],\n",
       "       [ 1,  1,  1, -1, -1, -1, -1, -1, -1, -1],\n",
       "       [ 1,  1,  1,  1,  1,  1,  1,  1, -1, -1],\n",
       "       [ 1,  1,  1,  1,  1,  1,  1,  1, -1, -1]])"
      ]
     },
     "execution_count": 16,
     "metadata": {},
     "output_type": "execute_result"
    }
   ],
   "source": [
    "p1 = pattern_1.flatten()\n",
    "p1_steady = digit_reco_network.converge_to_steady_state(p1,nb_iteration=5000,stdout=False)\n",
    "show_digit_pattern(post_process(p1_steady))\n",
    "post_process(p1_steady)"
   ]
  },
  {
   "cell_type": "markdown",
   "metadata": {},
   "source": [
    "### b)"
   ]
  },
  {
   "cell_type": "code",
   "execution_count": 17,
   "metadata": {},
   "outputs": [],
   "source": [
    "pattern_2 = np.array([[1, -1, 1, -1, 1, -1, 1, -1, 1, -1], [1, -1, 1, 1, -1, 1, -1, -1, 1, -1], [1, -1, -1, 1, -1, 1, -1, 1, 1, -1], [1, 1, -1, 1, 1, -1, -1, 1, -1, -1], [1, 1, -1, 1, 1, -1, -1, 1, -1, -1], [1, 1, -1, 1, 1, -1, -1, 1, -1, -1], [1, 1, -1, 1, 1, -1, -1, 1, -1, -1], [1, 1, -1, 1, 1, -1, -1, 1, -1, -1], [1, 1, -1, 1, 1, -1, -1, 1, -1, -1], [1, 1, -1, 1, 1, -1, -1, 1, -1, -1], [1, 1, -1, 1, 1, -1, -1, 1, -1, -1], [1, 1, -1, 1, 1, -1, -1, 1, -1, -1], [1, 1, -1, 1, 1, -1, -1, 1, -1, -1], [1, -1, -1, 1, -1, 1, -1, 1, 1, -1], [1, -1, 1, 1, -1, 1, -1, -1, 1, -1], [1, -1, 1, -1, 1, -1, 1, -1, 1, -1]] )"
   ]
  },
  {
   "cell_type": "code",
   "execution_count": 18,
   "metadata": {},
   "outputs": [],
   "source": [
    "p2 = pattern_2.flatten()"
   ]
  },
  {
   "cell_type": "code",
   "execution_count": 19,
   "metadata": {},
   "outputs": [
    {
     "name": "stdout",
     "output_type": "stream",
     "text": [
      "1 1 1 1 1 \n",
      "1 11 1  1 \n",
      "1  1 1 11 \n",
      "11 11  1  \n",
      "11 11  1  \n",
      "11 11  1  \n",
      "11 11  1  \n",
      "11 11  1  \n",
      "11 11  1  \n",
      "11 11  1  \n",
      "11 11  1  \n",
      "11 11  1  \n",
      "11 11  1  \n",
      "1  1 1 11 \n",
      "1 11 1  1 \n",
      "1 1 1 1 1 \n"
     ]
    }
   ],
   "source": [
    "show_digit_pattern(post_process(p2))"
   ]
  },
  {
   "cell_type": "code",
   "execution_count": 20,
   "metadata": {},
   "outputs": [
    {
     "name": "stdout",
     "output_type": "stream",
     "text": [
      "111    111\n",
      "111    111\n",
      "111    111\n",
      "111    111\n",
      "111    111\n",
      "111    111\n",
      "111    111\n",
      "111    111\n",
      "111    111\n",
      "111    111\n",
      "111    111\n",
      "111    111\n",
      "111    111\n",
      "111    111\n",
      "111    111\n",
      "111    111\n"
     ]
    },
    {
     "data": {
      "text/plain": [
       "array([[ 1,  1,  1, -1, -1, -1, -1,  1,  1,  1],\n",
       "       [ 1,  1,  1, -1, -1, -1, -1,  1,  1,  1],\n",
       "       [ 1,  1,  1, -1, -1, -1, -1,  1,  1,  1],\n",
       "       [ 1,  1,  1, -1, -1, -1, -1,  1,  1,  1],\n",
       "       [ 1,  1,  1, -1, -1, -1, -1,  1,  1,  1],\n",
       "       [ 1,  1,  1, -1, -1, -1, -1,  1,  1,  1],\n",
       "       [ 1,  1,  1, -1, -1, -1, -1,  1,  1,  1],\n",
       "       [ 1,  1,  1, -1, -1, -1, -1,  1,  1,  1],\n",
       "       [ 1,  1,  1, -1, -1, -1, -1,  1,  1,  1],\n",
       "       [ 1,  1,  1, -1, -1, -1, -1,  1,  1,  1],\n",
       "       [ 1,  1,  1, -1, -1, -1, -1,  1,  1,  1],\n",
       "       [ 1,  1,  1, -1, -1, -1, -1,  1,  1,  1],\n",
       "       [ 1,  1,  1, -1, -1, -1, -1,  1,  1,  1],\n",
       "       [ 1,  1,  1, -1, -1, -1, -1,  1,  1,  1],\n",
       "       [ 1,  1,  1, -1, -1, -1, -1,  1,  1,  1],\n",
       "       [ 1,  1,  1, -1, -1, -1, -1,  1,  1,  1]])"
      ]
     },
     "execution_count": 20,
     "metadata": {},
     "output_type": "execute_result"
    }
   ],
   "source": [
    "p2 = pattern_2.flatten()\n",
    "p2_steady = digit_reco_network.converge_to_steady_state(p2,nb_iteration=10000,stdout=False)\n",
    "show_digit_pattern(post_process(p2_steady))\n",
    "post_process(p2_steady)"
   ]
  },
  {
   "cell_type": "markdown",
   "metadata": {},
   "source": [
    "### c)"
   ]
  },
  {
   "cell_type": "code",
   "execution_count": 21,
   "metadata": {},
   "outputs": [],
   "source": [
    "pattern_3 = np.array([[1, 1, 1, 1, 1, 1, 1, 1, 1, 1], [1, 1, 1, -1, -1, -1, -1, 1, 1, 1], [1, 1, -1, -1, -1, -1, -1, -1, 1, 1], [1, -1, -1, -1, 1, 1, -1, -1, -1, 1], [1, -1, -1, -1, 1, 1, -1, -1, -1, 1], [1, -1, -1, -1, 1, 1, -1, -1, -1, 1], [1, -1, -1, -1, 1, 1, -1, -1, -1, 1], [1, -1, -1, -1, 1, 1, -1, -1, -1, 1], [1, -1, -1, -1, 1, 1, -1, -1, -1, 1], [1, -1, -1, -1, 1, 1, -1, -1, -1, 1], [1, -1, -1, -1, 1, 1, -1, -1, -1, 1], [1, -1, -1, -1, 1, 1, -1, -1, -1, 1], [1, -1, -1, -1, 1, 1, -1, -1, -1, 1], [1, 1, -1, -1, -1, -1, -1, -1, 1, 1], [1, 1, 1, -1, -1, -1, -1, 1, 1, 1], [1, 1, 1, 1, 1, 1, 1, 1, 1, 1]] )"
   ]
  },
  {
   "cell_type": "code",
   "execution_count": 22,
   "metadata": {},
   "outputs": [
    {
     "name": "stdout",
     "output_type": "stream",
     "text": [
      "1111111111\n",
      "111    111\n",
      "11      11\n",
      "1   11   1\n",
      "1   11   1\n",
      "1   11   1\n",
      "1   11   1\n",
      "1   11   1\n",
      "1   11   1\n",
      "1   11   1\n",
      "1   11   1\n",
      "1   11   1\n",
      "1   11   1\n",
      "11      11\n",
      "111    111\n",
      "1111111111\n"
     ]
    }
   ],
   "source": [
    "show_digit_pattern(pattern_3)"
   ]
  },
  {
   "cell_type": "code",
   "execution_count": 23,
   "metadata": {},
   "outputs": [],
   "source": [
    "p3 = pre_process(pattern_3)"
   ]
  },
  {
   "cell_type": "code",
   "execution_count": 24,
   "metadata": {},
   "outputs": [
    {
     "data": {
      "text/plain": [
       "array([[ 1,  1,  1,  1,  1,  1,  1,  1,  1,  1],\n",
       "       [ 1,  1,  1, -1, -1, -1, -1,  1,  1,  1],\n",
       "       [ 1,  1, -1, -1, -1, -1, -1, -1,  1,  1],\n",
       "       [ 1, -1, -1, -1,  1,  1, -1, -1, -1,  1],\n",
       "       [ 1, -1, -1, -1,  1,  1, -1, -1, -1,  1],\n",
       "       [ 1, -1, -1, -1,  1,  1, -1, -1, -1,  1],\n",
       "       [ 1, -1, -1, -1,  1,  1, -1, -1, -1,  1],\n",
       "       [ 1, -1, -1, -1,  1,  1, -1, -1, -1,  1],\n",
       "       [ 1, -1, -1, -1,  1,  1, -1, -1, -1,  1],\n",
       "       [ 1, -1, -1, -1,  1,  1, -1, -1, -1,  1],\n",
       "       [ 1, -1, -1, -1,  1,  1, -1, -1, -1,  1],\n",
       "       [ 1, -1, -1, -1,  1,  1, -1, -1, -1,  1],\n",
       "       [ 1, -1, -1, -1,  1,  1, -1, -1, -1,  1],\n",
       "       [ 1,  1, -1, -1, -1, -1, -1, -1,  1,  1],\n",
       "       [ 1,  1,  1, -1, -1, -1, -1,  1,  1,  1],\n",
       "       [ 1,  1,  1,  1,  1,  1,  1,  1,  1,  1]])"
      ]
     },
     "execution_count": 24,
     "metadata": {},
     "output_type": "execute_result"
    }
   ],
   "source": [
    "post_process(digit_reco_network.converge_to_steady_state(p3,stdout=False))"
   ]
  },
  {
   "cell_type": "markdown",
   "metadata": {},
   "source": [
    "### Emma"
   ]
  },
  {
   "cell_type": "code",
   "execution_count": 25,
   "metadata": {},
   "outputs": [],
   "source": [
    "pattern_4 = np.array([[1, -1, 1, 1, -1, -1, -1, -1, 1, 1], [-1, 1, 1, 1, -1, 1, -1, -1, 1, -1], [-1, 1, -1, -1, -1, 1, -1, 1, -1, 1], [-1, 1, -1, 1, -1, 1, 1, 1, -1, 1], [-1, 1, 1, 1, 1, -1, -1, -1, 1, 1], [1, -1, 1, 1, -1, -1, -1, 1, -1, 1], [1, -1, -1, -1, 1, 1, -1, -1, -1, 1], [1, -1, -1, 1, 1, -1, -1, 1, -1, 1], [1, -1, -1, 1, 1, 1, -1, -1, 1, 1], [1, 1, 1, -1, 1, -1, -1, 1, -1, 1], [1, -1, 1, -1, 1, -1, 1, -1, 1, -1], [1, -1, 1, -1, -1, 1, -1, 1, -1, -1], [1, 1, -1, -1, -1, -1, 1, 1, -1, 1], [-1, 1, -1, -1, -1, 1, -1, 1, -1, 1], [-1, -1, -1, -1, -1, 1, 1, -1, 1, -1], [1, -1, -1, 1, -1, 1, -1, -1, -1, -1]])"
   ]
  },
  {
   "cell_type": "code",
   "execution_count": 26,
   "metadata": {},
   "outputs": [
    {
     "name": "stdout",
     "output_type": "stream",
     "text": [
      "111    111\n",
      "111    111\n",
      "111     11\n",
      "111 1   11\n",
      "111 1   11\n",
      "111 1   11\n",
      "111 1   11\n",
      "11      11\n",
      "11      11\n",
      "111 11 111\n",
      "111 11 111\n",
      "111 11 111\n",
      "111 11 111\n",
      "111    111\n",
      "111    111\n",
      "111    111\n"
     ]
    },
    {
     "data": {
      "text/plain": [
       "array([[ 1,  1,  1, -1, -1, -1, -1,  1,  1,  1],\n",
       "       [ 1,  1,  1, -1, -1, -1, -1,  1,  1,  1],\n",
       "       [ 1,  1,  1, -1, -1, -1, -1, -1,  1,  1],\n",
       "       [ 1,  1,  1, -1,  1, -1, -1, -1,  1,  1],\n",
       "       [ 1,  1,  1, -1,  1, -1, -1, -1,  1,  1],\n",
       "       [ 1,  1,  1, -1,  1, -1, -1, -1,  1,  1],\n",
       "       [ 1,  1,  1, -1,  1, -1, -1, -1,  1,  1],\n",
       "       [ 1,  1, -1, -1, -1, -1, -1, -1,  1,  1],\n",
       "       [ 1,  1, -1, -1, -1, -1, -1, -1,  1,  1],\n",
       "       [ 1,  1,  1, -1,  1,  1, -1,  1,  1,  1],\n",
       "       [ 1,  1,  1, -1,  1,  1, -1,  1,  1,  1],\n",
       "       [ 1,  1,  1, -1,  1,  1, -1,  1,  1,  1],\n",
       "       [ 1,  1,  1, -1,  1,  1, -1,  1,  1,  1],\n",
       "       [ 1,  1,  1, -1, -1, -1, -1,  1,  1,  1],\n",
       "       [ 1,  1,  1, -1, -1, -1, -1,  1,  1,  1],\n",
       "       [ 1,  1,  1, -1, -1, -1, -1,  1,  1,  1]])"
      ]
     },
     "execution_count": 26,
     "metadata": {},
     "output_type": "execute_result"
    }
   ],
   "source": [
    "p4 = pattern_4.flatten()\n",
    "p4_steady = digit_reco_network.converge_to_steady_state(p4,nb_iteration=10000,stdout=False)\n",
    "show_digit_pattern(post_process(p4_steady))\n",
    "post_process(p4_steady)"
   ]
  }
 ],
 "metadata": {
  "kernelspec": {
   "display_name": "Python 3",
   "language": "python",
   "name": "python3"
  },
  "language_info": {
   "codemirror_mode": {
    "name": "ipython",
    "version": 3
   },
   "file_extension": ".py",
   "mimetype": "text/x-python",
   "name": "python",
   "nbconvert_exporter": "python",
   "pygments_lexer": "ipython3",
   "version": "3.8.2"
  }
 },
 "nbformat": 4,
 "nbformat_minor": 4
}
